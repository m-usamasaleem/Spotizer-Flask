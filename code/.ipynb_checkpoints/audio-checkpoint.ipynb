{
 "cells": [
  {
   "cell_type": "code",
   "execution_count": 8,
   "id": "8f649538",
   "metadata": {},
   "outputs": [],
   "source": [
    "# pip install spectralcluster SpeechRecognition pydub\n",
    "from spectralcluster import SpectralClusterer\n",
    "import speech_recognition as sr\n",
    "import pydub\n",
    "\n",
    "import torchaudio\n",
    "import torch\n",
    "\n",
    "import numpy as np\n",
    "import json\n",
    "import os"
   ]
  },
  {
   "cell_type": "code",
   "execution_count": 1,
   "id": "b6f2382b",
   "metadata": {},
   "outputs": [],
   "source": [
    "# pip install spectralcluster SpeechRecognition pydub\n",
    "from spectralcluster import SpectralClusterer\n",
    "import speech_recognition as sr\n",
    "import pydub\n",
    "\n",
    "import torchaudio\n",
    "import torch\n",
    "\n",
    "import numpy as np\n",
    "import json\n",
    "import os\n",
    "\n",
    "def analyze_audio(input_path, output_folder, path_to_model, num_speakers, verbose=False):\n",
    "  '''\n",
    "  Function to analyze audio and return diarization and speech content.\n",
    "\n",
    "  **Arguments**\n",
    "  input_path : str\n",
    "    A path to the input audio file (something.wav)\n",
    "  output_folder : str\n",
    "    The folder that the audio should be saved in. This should be unique for each new recording. The folder will be created\n",
    "    if it does not exist\n",
    "  path_to_model : str\n",
    "    A path to the 'ecapa_model.ptl' file that contains the ECAPA model weights\n",
    "  num_speakers : int\n",
    "    The number of speakers in the recording\n",
    "  verbose: bool\n",
    "    Will print what the function is doing\n",
    "\n",
    "  **Returns**\n",
    "  return_dict : dict\n",
    "    A dictionary containing the diarization and speech content\n",
    "\n",
    "  -------\n",
    "  Example\n",
    "  -------\n",
    "  returned_dict = analyze_audio('/content/full_audio.wav', '/content/', '/content/ecapa_model.ptl', num_speakers=4, verbose=True)\n",
    "  '''\n",
    "  assert os.path.exists(input_path)\n",
    "  assert os.path.exists(path_to_model)\n",
    "  os.makedirs(output_folder, exist_ok=True) # attempt to create output_folder if it does not exist\n",
    "\n",
    "  model = torch.jit.load(path_to_model)\n",
    "\n",
    "  signal, sr = torchaudio.load(input_path)\n",
    "  \n",
    "  '''\n",
    "  Compute segment embeddings\n",
    "  '''\n",
    "  # Compute embeddings\n",
    "  if verbose: print('Computing speaker embeddings...')\n",
    "  WINDOW_SIZE = 3 # in seconds\n",
    "  HOP_LENGTH = WINDOW_SIZE # in seconds\n",
    "  SAMPLING_RATE = 16000\n",
    "\n",
    "  if sr != SAMPLING_RATE:\n",
    "    print(f'Resampling audio from {sr}Hz to {SAMPLING_RATE}Hz...')\n",
    "    resampler = torchaudio.transforms.Resample(sr, 16000)\n",
    "    resampler(signal)\n",
    "    print(f'Resampling finished.')\n",
    "\n",
    "  num_segments = signal.shape[1]//int(HOP_LENGTH*SAMPLING_RATE)-1\n",
    "  segment_embeddings = np.empty((num_segments, 192))\n",
    "\n",
    "  for i in range(num_segments):\n",
    "    start_idx = int(i*SAMPLING_RATE*HOP_LENGTH)\n",
    "    end_idx = start_idx+(SAMPLING_RATE*WINDOW_SIZE)\n",
    "\n",
    "    segment_signal = signal[:,start_idx:end_idx]\n",
    "    spectr = gen_ECAPA_input(segment_signal)\n",
    "\n",
    "    segment_embeddings[i] = model(spectr).detach().numpy()[0][0]\n",
    "\n",
    "\n",
    "  '''\n",
    "  Compute affinity matrix\n",
    "  '''\n",
    "  dotted = segment_embeddings @ segment_embeddings.T\n",
    "  normalized = np.linalg.norm(segment_embeddings, axis=1)**2\n",
    "\n",
    "  affinity_matrix = dotted/normalized # cosine similarities between each segment\n",
    "\n",
    "  \n",
    "  '''\n",
    "  Clustering\n",
    "  '''\n",
    "  clusterer = SpectralClusterer(\n",
    "      min_clusters=num_speakers,\n",
    "      max_clusters=num_speakers,\n",
    "      laplacian_type=None,\n",
    "      refinement_options=None,\n",
    "      custom_dist=\"cosine\")\n",
    "\n",
    "  labels = clusterer.predict(segment_embeddings)\n",
    "  labels = np.abs(labels-labels.max())\n",
    "\n",
    "\n",
    "  '''\n",
    "  Segment audio and generate return JSON\n",
    "  '''\n",
    "  if verbose: print('Segmenting Audio...')\n",
    "  return_dict = {}\n",
    "  n_segment = 0\n",
    "  find_consecutive = lambda x: np.split(x, np.where(np.diff(x) != 1)[0]+1)\n",
    "\n",
    "  for i in range(num_speakers):\n",
    "    idxs = np.where(labels==i)[0]\n",
    "    segments = find_consecutive(idxs)\n",
    "\n",
    "    for j, segment in enumerate(segments):\n",
    "      if segment.shape[0] < 3:\n",
    "        continue\n",
    "\n",
    "      seg_start = segment.min()\n",
    "      seg_start_time = WINDOW_SIZE * seg_start\n",
    "      seg_end = segment.max()\n",
    "      seg_end_time = WINDOW_SIZE * seg_end\n",
    "\n",
    "      start_idx_signal = seg_start*SAMPLING_RATE*WINDOW_SIZE\n",
    "      end_idx_signal = seg_end*SAMPLING_RATE*WINDOW_SIZE\n",
    "\n",
    "      seg_audio = signal[:,start_idx_signal:end_idx_signal]\n",
    "      audio_out_path = f'{output_folder}/seg{n_segment}_speaker{i}_speakerseg{j}.wav'\n",
    "      torchaudio.save(audio_out_path, seg_audio, SAMPLING_RATE)\n",
    "\n",
    "      # everything must be a string in order to get converted to JSON\n",
    "      return_dict[f'segment_{n_segment}'] = {\n",
    "        'global_segment': str(n_segment),\n",
    "        'speaker_segment': str(j),\n",
    "        'speaker_id': str(i),\n",
    "        'start_time': str(seg_start_time),\n",
    "        'end_time': str(seg_end_time),\n",
    "        'audio_file': str(audio_out_path),\n",
    "        'text': -1 # will be filled in by gen_spoken_contents\n",
    "      }\n",
    "\n",
    "      n_segment += 1\n",
    "\n",
    "\n",
    "  '''\n",
    "  Speech recognition\n",
    "  '''\n",
    "  if verbose: print('Generating transcripts...')\n",
    "  return_dict = gen_spoken_contents(return_dict)\n",
    "\n",
    "  return json.dumps(return_dict)\n",
    "\n",
    "def gen_ECAPA_input(signal):\n",
    "  # STFT hyperparameters\n",
    "  hop_length_ms = 10 # hop length in ms\n",
    "  win_length_ms = 32 # win length in ms\n",
    "\n",
    "  hop_length_samples = round((16000 / 1000.0) * hop_length_ms) # hop length in samples\n",
    "  win_length_samples = round((16000 / 1000.0) * win_length_ms) # win length in samples\n",
    "\n",
    "  window_fn = torch.hamming_window(win_length_samples) # hamming window function\n",
    "\n",
    "  # Perform STFT\n",
    "  torch_stft = torch.stft(signal, 512, hop_length_samples, win_length_samples, window_fn, pad_mode='constant', center=True)\n",
    "  torch_stft = torch_stft.transpose(2, 1)\n",
    "  torch_spectr = (torch_stft**2).sum(-1) # this is the input to the model, shape is (1, _, 257) the \"_\" depends on signal length\n",
    "\n",
    "  return torch_spectr\n",
    "\n",
    "def gen_spoken_contents(return_dict):\n",
    "  recognizer = sr.Recognizer()\n",
    "  \n",
    "  for k in return_dict.keys():\n",
    "\n",
    "    v = return_dict[k]\n",
    "    \n",
    "    # convert to PCM WAV\n",
    "    sound = pydub.AudioSegment.from_wav(v['audio_file'])\n",
    "    sound.export(v['audio_file'], format=\"wav\")\n",
    "\n",
    "    # load audio\n",
    "    audio = sr.AudioFile(v['audio_file'])\n",
    "    with audio as source:\n",
    "      audio_obj = recognizer.record(source)\n",
    "\n",
    "    # do speech recognition\n",
    "    predicted_text = recognizer.recognize_google(audio_obj)\n",
    "\n",
    "    v['text'] = predicted_text\n",
    "\n",
    "  return return_dict"
   ]
  },
  {
   "cell_type": "code",
   "execution_count": 2,
   "id": "045b3343",
   "metadata": {
    "scrolled": true
   },
   "outputs": [
    {
     "name": "stderr",
     "output_type": "stream",
     "text": [
      "/home/msaleem2/anaconda3/lib/python3.9/site-packages/torch/functional.py:695: UserWarning: stft will soon require the return_complex parameter be given for real inputs, and will further require that return_complex=True in a future PyTorch release. (Triggered internally at  ../aten/src/ATen/native/SpectralOps.cpp:798.)\n",
      "  return _VF.stft(input, n_fft, hop_length, win_length, window,  # type: ignore[attr-defined]\n"
     ]
    },
    {
     "ename": "KeyboardInterrupt",
     "evalue": "",
     "output_type": "error",
     "traceback": [
      "\u001b[0;31m---------------------------------------------------------------------------\u001b[0m",
      "\u001b[0;31mKeyboardInterrupt\u001b[0m                         Traceback (most recent call last)",
      "\u001b[0;32m/tmp/ipykernel_43681/4009515661.py\u001b[0m in \u001b[0;36m<module>\u001b[0;34m\u001b[0m\n\u001b[0;32m----> 1\u001b[0;31m \u001b[0mtranscription\u001b[0m\u001b[0;34m=\u001b[0m\u001b[0manalyze_audio\u001b[0m\u001b[0;34m(\u001b[0m\u001b[0;34m\"./full_audio.wav\"\u001b[0m\u001b[0;34m,\u001b[0m \u001b[0;34m\"./out/\"\u001b[0m\u001b[0;34m,\u001b[0m \u001b[0;34m\"./quantized_and_optimized_ECAPA_medium_nfft512_6epoch.ptl\"\u001b[0m\u001b[0;34m,\u001b[0m \u001b[0;36m4\u001b[0m\u001b[0;34m,\u001b[0m \u001b[0mverbose\u001b[0m\u001b[0;34m=\u001b[0m\u001b[0;32mFalse\u001b[0m\u001b[0;34m)\u001b[0m\u001b[0;34m\u001b[0m\u001b[0;34m\u001b[0m\u001b[0m\n\u001b[0m",
      "\u001b[0;32m/tmp/ipykernel_43681/3160346049.py\u001b[0m in \u001b[0;36manalyze_audio\u001b[0;34m(input_path, output_folder, path_to_model, num_speakers, verbose)\u001b[0m\n\u001b[1;32m    142\u001b[0m   '''\n\u001b[1;32m    143\u001b[0m   \u001b[0;32mif\u001b[0m \u001b[0mverbose\u001b[0m\u001b[0;34m:\u001b[0m \u001b[0mprint\u001b[0m\u001b[0;34m(\u001b[0m\u001b[0;34m'Generating transcripts...'\u001b[0m\u001b[0;34m)\u001b[0m\u001b[0;34m\u001b[0m\u001b[0;34m\u001b[0m\u001b[0m\n\u001b[0;32m--> 144\u001b[0;31m   \u001b[0mreturn_dict\u001b[0m \u001b[0;34m=\u001b[0m \u001b[0mgen_spoken_contents\u001b[0m\u001b[0;34m(\u001b[0m\u001b[0mreturn_dict\u001b[0m\u001b[0;34m)\u001b[0m\u001b[0;34m\u001b[0m\u001b[0;34m\u001b[0m\u001b[0m\n\u001b[0m\u001b[1;32m    145\u001b[0m \u001b[0;34m\u001b[0m\u001b[0m\n\u001b[1;32m    146\u001b[0m   \u001b[0;32mreturn\u001b[0m \u001b[0mjson\u001b[0m\u001b[0;34m.\u001b[0m\u001b[0mdumps\u001b[0m\u001b[0;34m(\u001b[0m\u001b[0mreturn_dict\u001b[0m\u001b[0;34m)\u001b[0m\u001b[0;34m\u001b[0m\u001b[0;34m\u001b[0m\u001b[0m\n",
      "\u001b[0;32m/tmp/ipykernel_43681/3160346049.py\u001b[0m in \u001b[0;36mgen_spoken_contents\u001b[0;34m(return_dict)\u001b[0m\n\u001b[1;32m    180\u001b[0m \u001b[0;34m\u001b[0m\u001b[0m\n\u001b[1;32m    181\u001b[0m     \u001b[0;31m# do speech recognition\u001b[0m\u001b[0;34m\u001b[0m\u001b[0;34m\u001b[0m\u001b[0m\n\u001b[0;32m--> 182\u001b[0;31m     \u001b[0mpredicted_text\u001b[0m \u001b[0;34m=\u001b[0m \u001b[0mrecognizer\u001b[0m\u001b[0;34m.\u001b[0m\u001b[0mrecognize_google\u001b[0m\u001b[0;34m(\u001b[0m\u001b[0maudio_obj\u001b[0m\u001b[0;34m)\u001b[0m\u001b[0;34m\u001b[0m\u001b[0;34m\u001b[0m\u001b[0m\n\u001b[0m\u001b[1;32m    183\u001b[0m \u001b[0;34m\u001b[0m\u001b[0m\n\u001b[1;32m    184\u001b[0m     \u001b[0mv\u001b[0m\u001b[0;34m[\u001b[0m\u001b[0;34m'text'\u001b[0m\u001b[0;34m]\u001b[0m \u001b[0;34m=\u001b[0m \u001b[0mpredicted_text\u001b[0m\u001b[0;34m\u001b[0m\u001b[0;34m\u001b[0m\u001b[0m\n",
      "\u001b[0;32m~/anaconda3/lib/python3.9/site-packages/speech_recognition/__init__.py\u001b[0m in \u001b[0;36mrecognize_google\u001b[0;34m(self, audio_data, key, language, show_all)\u001b[0m\n\u001b[1;32m    838\u001b[0m         \u001b[0;31m# obtain audio transcription results\u001b[0m\u001b[0;34m\u001b[0m\u001b[0;34m\u001b[0m\u001b[0m\n\u001b[1;32m    839\u001b[0m         \u001b[0;32mtry\u001b[0m\u001b[0;34m:\u001b[0m\u001b[0;34m\u001b[0m\u001b[0;34m\u001b[0m\u001b[0m\n\u001b[0;32m--> 840\u001b[0;31m             \u001b[0mresponse\u001b[0m \u001b[0;34m=\u001b[0m \u001b[0murlopen\u001b[0m\u001b[0;34m(\u001b[0m\u001b[0mrequest\u001b[0m\u001b[0;34m,\u001b[0m \u001b[0mtimeout\u001b[0m\u001b[0;34m=\u001b[0m\u001b[0mself\u001b[0m\u001b[0;34m.\u001b[0m\u001b[0moperation_timeout\u001b[0m\u001b[0;34m)\u001b[0m\u001b[0;34m\u001b[0m\u001b[0;34m\u001b[0m\u001b[0m\n\u001b[0m\u001b[1;32m    841\u001b[0m         \u001b[0;32mexcept\u001b[0m \u001b[0mHTTPError\u001b[0m \u001b[0;32mas\u001b[0m \u001b[0me\u001b[0m\u001b[0;34m:\u001b[0m\u001b[0;34m\u001b[0m\u001b[0;34m\u001b[0m\u001b[0m\n\u001b[1;32m    842\u001b[0m             \u001b[0;32mraise\u001b[0m \u001b[0mRequestError\u001b[0m\u001b[0;34m(\u001b[0m\u001b[0;34m\"recognition request failed: {}\"\u001b[0m\u001b[0;34m.\u001b[0m\u001b[0mformat\u001b[0m\u001b[0;34m(\u001b[0m\u001b[0me\u001b[0m\u001b[0;34m.\u001b[0m\u001b[0mreason\u001b[0m\u001b[0;34m)\u001b[0m\u001b[0;34m)\u001b[0m\u001b[0;34m\u001b[0m\u001b[0;34m\u001b[0m\u001b[0m\n",
      "\u001b[0;32m~/anaconda3/lib/python3.9/urllib/request.py\u001b[0m in \u001b[0;36murlopen\u001b[0;34m(url, data, timeout, cafile, capath, cadefault, context)\u001b[0m\n\u001b[1;32m    212\u001b[0m     \u001b[0;32melse\u001b[0m\u001b[0;34m:\u001b[0m\u001b[0;34m\u001b[0m\u001b[0;34m\u001b[0m\u001b[0m\n\u001b[1;32m    213\u001b[0m         \u001b[0mopener\u001b[0m \u001b[0;34m=\u001b[0m \u001b[0m_opener\u001b[0m\u001b[0;34m\u001b[0m\u001b[0;34m\u001b[0m\u001b[0m\n\u001b[0;32m--> 214\u001b[0;31m     \u001b[0;32mreturn\u001b[0m \u001b[0mopener\u001b[0m\u001b[0;34m.\u001b[0m\u001b[0mopen\u001b[0m\u001b[0;34m(\u001b[0m\u001b[0murl\u001b[0m\u001b[0;34m,\u001b[0m \u001b[0mdata\u001b[0m\u001b[0;34m,\u001b[0m \u001b[0mtimeout\u001b[0m\u001b[0;34m)\u001b[0m\u001b[0;34m\u001b[0m\u001b[0;34m\u001b[0m\u001b[0m\n\u001b[0m\u001b[1;32m    215\u001b[0m \u001b[0;34m\u001b[0m\u001b[0m\n\u001b[1;32m    216\u001b[0m \u001b[0;32mdef\u001b[0m \u001b[0minstall_opener\u001b[0m\u001b[0;34m(\u001b[0m\u001b[0mopener\u001b[0m\u001b[0;34m)\u001b[0m\u001b[0;34m:\u001b[0m\u001b[0;34m\u001b[0m\u001b[0;34m\u001b[0m\u001b[0m\n",
      "\u001b[0;32m~/anaconda3/lib/python3.9/urllib/request.py\u001b[0m in \u001b[0;36mopen\u001b[0;34m(self, fullurl, data, timeout)\u001b[0m\n\u001b[1;32m    515\u001b[0m \u001b[0;34m\u001b[0m\u001b[0m\n\u001b[1;32m    516\u001b[0m         \u001b[0msys\u001b[0m\u001b[0;34m.\u001b[0m\u001b[0maudit\u001b[0m\u001b[0;34m(\u001b[0m\u001b[0;34m'urllib.Request'\u001b[0m\u001b[0;34m,\u001b[0m \u001b[0mreq\u001b[0m\u001b[0;34m.\u001b[0m\u001b[0mfull_url\u001b[0m\u001b[0;34m,\u001b[0m \u001b[0mreq\u001b[0m\u001b[0;34m.\u001b[0m\u001b[0mdata\u001b[0m\u001b[0;34m,\u001b[0m \u001b[0mreq\u001b[0m\u001b[0;34m.\u001b[0m\u001b[0mheaders\u001b[0m\u001b[0;34m,\u001b[0m \u001b[0mreq\u001b[0m\u001b[0;34m.\u001b[0m\u001b[0mget_method\u001b[0m\u001b[0;34m(\u001b[0m\u001b[0;34m)\u001b[0m\u001b[0;34m)\u001b[0m\u001b[0;34m\u001b[0m\u001b[0;34m\u001b[0m\u001b[0m\n\u001b[0;32m--> 517\u001b[0;31m         \u001b[0mresponse\u001b[0m \u001b[0;34m=\u001b[0m \u001b[0mself\u001b[0m\u001b[0;34m.\u001b[0m\u001b[0m_open\u001b[0m\u001b[0;34m(\u001b[0m\u001b[0mreq\u001b[0m\u001b[0;34m,\u001b[0m \u001b[0mdata\u001b[0m\u001b[0;34m)\u001b[0m\u001b[0;34m\u001b[0m\u001b[0;34m\u001b[0m\u001b[0m\n\u001b[0m\u001b[1;32m    518\u001b[0m \u001b[0;34m\u001b[0m\u001b[0m\n\u001b[1;32m    519\u001b[0m         \u001b[0;31m# post-process response\u001b[0m\u001b[0;34m\u001b[0m\u001b[0;34m\u001b[0m\u001b[0m\n",
      "\u001b[0;32m~/anaconda3/lib/python3.9/urllib/request.py\u001b[0m in \u001b[0;36m_open\u001b[0;34m(self, req, data)\u001b[0m\n\u001b[1;32m    532\u001b[0m \u001b[0;34m\u001b[0m\u001b[0m\n\u001b[1;32m    533\u001b[0m         \u001b[0mprotocol\u001b[0m \u001b[0;34m=\u001b[0m \u001b[0mreq\u001b[0m\u001b[0;34m.\u001b[0m\u001b[0mtype\u001b[0m\u001b[0;34m\u001b[0m\u001b[0;34m\u001b[0m\u001b[0m\n\u001b[0;32m--> 534\u001b[0;31m         result = self._call_chain(self.handle_open, protocol, protocol +\n\u001b[0m\u001b[1;32m    535\u001b[0m                                   '_open', req)\n\u001b[1;32m    536\u001b[0m         \u001b[0;32mif\u001b[0m \u001b[0mresult\u001b[0m\u001b[0;34m:\u001b[0m\u001b[0;34m\u001b[0m\u001b[0;34m\u001b[0m\u001b[0m\n",
      "\u001b[0;32m~/anaconda3/lib/python3.9/urllib/request.py\u001b[0m in \u001b[0;36m_call_chain\u001b[0;34m(self, chain, kind, meth_name, *args)\u001b[0m\n\u001b[1;32m    492\u001b[0m         \u001b[0;32mfor\u001b[0m \u001b[0mhandler\u001b[0m \u001b[0;32min\u001b[0m \u001b[0mhandlers\u001b[0m\u001b[0;34m:\u001b[0m\u001b[0;34m\u001b[0m\u001b[0;34m\u001b[0m\u001b[0m\n\u001b[1;32m    493\u001b[0m             \u001b[0mfunc\u001b[0m \u001b[0;34m=\u001b[0m \u001b[0mgetattr\u001b[0m\u001b[0;34m(\u001b[0m\u001b[0mhandler\u001b[0m\u001b[0;34m,\u001b[0m \u001b[0mmeth_name\u001b[0m\u001b[0;34m)\u001b[0m\u001b[0;34m\u001b[0m\u001b[0;34m\u001b[0m\u001b[0m\n\u001b[0;32m--> 494\u001b[0;31m             \u001b[0mresult\u001b[0m \u001b[0;34m=\u001b[0m \u001b[0mfunc\u001b[0m\u001b[0;34m(\u001b[0m\u001b[0;34m*\u001b[0m\u001b[0margs\u001b[0m\u001b[0;34m)\u001b[0m\u001b[0;34m\u001b[0m\u001b[0;34m\u001b[0m\u001b[0m\n\u001b[0m\u001b[1;32m    495\u001b[0m             \u001b[0;32mif\u001b[0m \u001b[0mresult\u001b[0m \u001b[0;32mis\u001b[0m \u001b[0;32mnot\u001b[0m \u001b[0;32mNone\u001b[0m\u001b[0;34m:\u001b[0m\u001b[0;34m\u001b[0m\u001b[0;34m\u001b[0m\u001b[0m\n\u001b[1;32m    496\u001b[0m                 \u001b[0;32mreturn\u001b[0m \u001b[0mresult\u001b[0m\u001b[0;34m\u001b[0m\u001b[0;34m\u001b[0m\u001b[0m\n",
      "\u001b[0;32m~/anaconda3/lib/python3.9/urllib/request.py\u001b[0m in \u001b[0;36mhttp_open\u001b[0;34m(self, req)\u001b[0m\n\u001b[1;32m   1373\u001b[0m \u001b[0;34m\u001b[0m\u001b[0m\n\u001b[1;32m   1374\u001b[0m     \u001b[0;32mdef\u001b[0m \u001b[0mhttp_open\u001b[0m\u001b[0;34m(\u001b[0m\u001b[0mself\u001b[0m\u001b[0;34m,\u001b[0m \u001b[0mreq\u001b[0m\u001b[0;34m)\u001b[0m\u001b[0;34m:\u001b[0m\u001b[0;34m\u001b[0m\u001b[0;34m\u001b[0m\u001b[0m\n\u001b[0;32m-> 1375\u001b[0;31m         \u001b[0;32mreturn\u001b[0m \u001b[0mself\u001b[0m\u001b[0;34m.\u001b[0m\u001b[0mdo_open\u001b[0m\u001b[0;34m(\u001b[0m\u001b[0mhttp\u001b[0m\u001b[0;34m.\u001b[0m\u001b[0mclient\u001b[0m\u001b[0;34m.\u001b[0m\u001b[0mHTTPConnection\u001b[0m\u001b[0;34m,\u001b[0m \u001b[0mreq\u001b[0m\u001b[0;34m)\u001b[0m\u001b[0;34m\u001b[0m\u001b[0;34m\u001b[0m\u001b[0m\n\u001b[0m\u001b[1;32m   1376\u001b[0m \u001b[0;34m\u001b[0m\u001b[0m\n\u001b[1;32m   1377\u001b[0m     \u001b[0mhttp_request\u001b[0m \u001b[0;34m=\u001b[0m \u001b[0mAbstractHTTPHandler\u001b[0m\u001b[0;34m.\u001b[0m\u001b[0mdo_request_\u001b[0m\u001b[0;34m\u001b[0m\u001b[0;34m\u001b[0m\u001b[0m\n",
      "\u001b[0;32m~/anaconda3/lib/python3.9/urllib/request.py\u001b[0m in \u001b[0;36mdo_open\u001b[0;34m(self, http_class, req, **http_conn_args)\u001b[0m\n\u001b[1;32m   1344\u001b[0m         \u001b[0;32mtry\u001b[0m\u001b[0;34m:\u001b[0m\u001b[0;34m\u001b[0m\u001b[0;34m\u001b[0m\u001b[0m\n\u001b[1;32m   1345\u001b[0m             \u001b[0;32mtry\u001b[0m\u001b[0;34m:\u001b[0m\u001b[0;34m\u001b[0m\u001b[0;34m\u001b[0m\u001b[0m\n\u001b[0;32m-> 1346\u001b[0;31m                 h.request(req.get_method(), req.selector, req.data, headers,\n\u001b[0m\u001b[1;32m   1347\u001b[0m                           encode_chunked=req.has_header('Transfer-encoding'))\n\u001b[1;32m   1348\u001b[0m             \u001b[0;32mexcept\u001b[0m \u001b[0mOSError\u001b[0m \u001b[0;32mas\u001b[0m \u001b[0merr\u001b[0m\u001b[0;34m:\u001b[0m \u001b[0;31m# timeout error\u001b[0m\u001b[0;34m\u001b[0m\u001b[0;34m\u001b[0m\u001b[0m\n",
      "\u001b[0;32m~/anaconda3/lib/python3.9/http/client.py\u001b[0m in \u001b[0;36mrequest\u001b[0;34m(self, method, url, body, headers, encode_chunked)\u001b[0m\n\u001b[1;32m   1277\u001b[0m                 encode_chunked=False):\n\u001b[1;32m   1278\u001b[0m         \u001b[0;34m\"\"\"Send a complete request to the server.\"\"\"\u001b[0m\u001b[0;34m\u001b[0m\u001b[0;34m\u001b[0m\u001b[0m\n\u001b[0;32m-> 1279\u001b[0;31m         \u001b[0mself\u001b[0m\u001b[0;34m.\u001b[0m\u001b[0m_send_request\u001b[0m\u001b[0;34m(\u001b[0m\u001b[0mmethod\u001b[0m\u001b[0;34m,\u001b[0m \u001b[0murl\u001b[0m\u001b[0;34m,\u001b[0m \u001b[0mbody\u001b[0m\u001b[0;34m,\u001b[0m \u001b[0mheaders\u001b[0m\u001b[0;34m,\u001b[0m \u001b[0mencode_chunked\u001b[0m\u001b[0;34m)\u001b[0m\u001b[0;34m\u001b[0m\u001b[0;34m\u001b[0m\u001b[0m\n\u001b[0m\u001b[1;32m   1280\u001b[0m \u001b[0;34m\u001b[0m\u001b[0m\n\u001b[1;32m   1281\u001b[0m     \u001b[0;32mdef\u001b[0m \u001b[0m_send_request\u001b[0m\u001b[0;34m(\u001b[0m\u001b[0mself\u001b[0m\u001b[0;34m,\u001b[0m \u001b[0mmethod\u001b[0m\u001b[0;34m,\u001b[0m \u001b[0murl\u001b[0m\u001b[0;34m,\u001b[0m \u001b[0mbody\u001b[0m\u001b[0;34m,\u001b[0m \u001b[0mheaders\u001b[0m\u001b[0;34m,\u001b[0m \u001b[0mencode_chunked\u001b[0m\u001b[0;34m)\u001b[0m\u001b[0;34m:\u001b[0m\u001b[0;34m\u001b[0m\u001b[0;34m\u001b[0m\u001b[0m\n",
      "\u001b[0;32m~/anaconda3/lib/python3.9/http/client.py\u001b[0m in \u001b[0;36m_send_request\u001b[0;34m(self, method, url, body, headers, encode_chunked)\u001b[0m\n\u001b[1;32m   1323\u001b[0m             \u001b[0;31m# default charset of iso-8859-1.\u001b[0m\u001b[0;34m\u001b[0m\u001b[0;34m\u001b[0m\u001b[0m\n\u001b[1;32m   1324\u001b[0m             \u001b[0mbody\u001b[0m \u001b[0;34m=\u001b[0m \u001b[0m_encode\u001b[0m\u001b[0;34m(\u001b[0m\u001b[0mbody\u001b[0m\u001b[0;34m,\u001b[0m \u001b[0;34m'body'\u001b[0m\u001b[0;34m)\u001b[0m\u001b[0;34m\u001b[0m\u001b[0;34m\u001b[0m\u001b[0m\n\u001b[0;32m-> 1325\u001b[0;31m         \u001b[0mself\u001b[0m\u001b[0;34m.\u001b[0m\u001b[0mendheaders\u001b[0m\u001b[0;34m(\u001b[0m\u001b[0mbody\u001b[0m\u001b[0;34m,\u001b[0m \u001b[0mencode_chunked\u001b[0m\u001b[0;34m=\u001b[0m\u001b[0mencode_chunked\u001b[0m\u001b[0;34m)\u001b[0m\u001b[0;34m\u001b[0m\u001b[0;34m\u001b[0m\u001b[0m\n\u001b[0m\u001b[1;32m   1326\u001b[0m \u001b[0;34m\u001b[0m\u001b[0m\n\u001b[1;32m   1327\u001b[0m     \u001b[0;32mdef\u001b[0m \u001b[0mgetresponse\u001b[0m\u001b[0;34m(\u001b[0m\u001b[0mself\u001b[0m\u001b[0;34m)\u001b[0m\u001b[0;34m:\u001b[0m\u001b[0;34m\u001b[0m\u001b[0;34m\u001b[0m\u001b[0m\n",
      "\u001b[0;32m~/anaconda3/lib/python3.9/http/client.py\u001b[0m in \u001b[0;36mendheaders\u001b[0;34m(self, message_body, encode_chunked)\u001b[0m\n\u001b[1;32m   1272\u001b[0m         \u001b[0;32melse\u001b[0m\u001b[0;34m:\u001b[0m\u001b[0;34m\u001b[0m\u001b[0;34m\u001b[0m\u001b[0m\n\u001b[1;32m   1273\u001b[0m             \u001b[0;32mraise\u001b[0m \u001b[0mCannotSendHeader\u001b[0m\u001b[0;34m(\u001b[0m\u001b[0;34m)\u001b[0m\u001b[0;34m\u001b[0m\u001b[0;34m\u001b[0m\u001b[0m\n\u001b[0;32m-> 1274\u001b[0;31m         \u001b[0mself\u001b[0m\u001b[0;34m.\u001b[0m\u001b[0m_send_output\u001b[0m\u001b[0;34m(\u001b[0m\u001b[0mmessage_body\u001b[0m\u001b[0;34m,\u001b[0m \u001b[0mencode_chunked\u001b[0m\u001b[0;34m=\u001b[0m\u001b[0mencode_chunked\u001b[0m\u001b[0;34m)\u001b[0m\u001b[0;34m\u001b[0m\u001b[0;34m\u001b[0m\u001b[0m\n\u001b[0m\u001b[1;32m   1275\u001b[0m \u001b[0;34m\u001b[0m\u001b[0m\n\u001b[1;32m   1276\u001b[0m     def request(self, method, url, body=None, headers={}, *,\n",
      "\u001b[0;32m~/anaconda3/lib/python3.9/http/client.py\u001b[0m in \u001b[0;36m_send_output\u001b[0;34m(self, message_body, encode_chunked)\u001b[0m\n\u001b[1;32m   1032\u001b[0m         \u001b[0mmsg\u001b[0m \u001b[0;34m=\u001b[0m \u001b[0;34mb\"\\r\\n\"\u001b[0m\u001b[0;34m.\u001b[0m\u001b[0mjoin\u001b[0m\u001b[0;34m(\u001b[0m\u001b[0mself\u001b[0m\u001b[0;34m.\u001b[0m\u001b[0m_buffer\u001b[0m\u001b[0;34m)\u001b[0m\u001b[0;34m\u001b[0m\u001b[0;34m\u001b[0m\u001b[0m\n\u001b[1;32m   1033\u001b[0m         \u001b[0;32mdel\u001b[0m \u001b[0mself\u001b[0m\u001b[0;34m.\u001b[0m\u001b[0m_buffer\u001b[0m\u001b[0;34m[\u001b[0m\u001b[0;34m:\u001b[0m\u001b[0;34m]\u001b[0m\u001b[0;34m\u001b[0m\u001b[0;34m\u001b[0m\u001b[0m\n\u001b[0;32m-> 1034\u001b[0;31m         \u001b[0mself\u001b[0m\u001b[0;34m.\u001b[0m\u001b[0msend\u001b[0m\u001b[0;34m(\u001b[0m\u001b[0mmsg\u001b[0m\u001b[0;34m)\u001b[0m\u001b[0;34m\u001b[0m\u001b[0;34m\u001b[0m\u001b[0m\n\u001b[0m\u001b[1;32m   1035\u001b[0m \u001b[0;34m\u001b[0m\u001b[0m\n\u001b[1;32m   1036\u001b[0m         \u001b[0;32mif\u001b[0m \u001b[0mmessage_body\u001b[0m \u001b[0;32mis\u001b[0m \u001b[0;32mnot\u001b[0m \u001b[0;32mNone\u001b[0m\u001b[0;34m:\u001b[0m\u001b[0;34m\u001b[0m\u001b[0;34m\u001b[0m\u001b[0m\n",
      "\u001b[0;32m~/anaconda3/lib/python3.9/http/client.py\u001b[0m in \u001b[0;36msend\u001b[0;34m(self, data)\u001b[0m\n\u001b[1;32m    972\u001b[0m         \u001b[0;32mif\u001b[0m \u001b[0mself\u001b[0m\u001b[0;34m.\u001b[0m\u001b[0msock\u001b[0m \u001b[0;32mis\u001b[0m \u001b[0;32mNone\u001b[0m\u001b[0;34m:\u001b[0m\u001b[0;34m\u001b[0m\u001b[0;34m\u001b[0m\u001b[0m\n\u001b[1;32m    973\u001b[0m             \u001b[0;32mif\u001b[0m \u001b[0mself\u001b[0m\u001b[0;34m.\u001b[0m\u001b[0mauto_open\u001b[0m\u001b[0;34m:\u001b[0m\u001b[0;34m\u001b[0m\u001b[0;34m\u001b[0m\u001b[0m\n\u001b[0;32m--> 974\u001b[0;31m                 \u001b[0mself\u001b[0m\u001b[0;34m.\u001b[0m\u001b[0mconnect\u001b[0m\u001b[0;34m(\u001b[0m\u001b[0;34m)\u001b[0m\u001b[0;34m\u001b[0m\u001b[0;34m\u001b[0m\u001b[0m\n\u001b[0m\u001b[1;32m    975\u001b[0m             \u001b[0;32melse\u001b[0m\u001b[0;34m:\u001b[0m\u001b[0;34m\u001b[0m\u001b[0;34m\u001b[0m\u001b[0m\n\u001b[1;32m    976\u001b[0m                 \u001b[0;32mraise\u001b[0m \u001b[0mNotConnected\u001b[0m\u001b[0;34m(\u001b[0m\u001b[0;34m)\u001b[0m\u001b[0;34m\u001b[0m\u001b[0;34m\u001b[0m\u001b[0m\n",
      "\u001b[0;32m~/anaconda3/lib/python3.9/http/client.py\u001b[0m in \u001b[0;36mconnect\u001b[0;34m(self)\u001b[0m\n\u001b[1;32m    943\u001b[0m     \u001b[0;32mdef\u001b[0m \u001b[0mconnect\u001b[0m\u001b[0;34m(\u001b[0m\u001b[0mself\u001b[0m\u001b[0;34m)\u001b[0m\u001b[0;34m:\u001b[0m\u001b[0;34m\u001b[0m\u001b[0;34m\u001b[0m\u001b[0m\n\u001b[1;32m    944\u001b[0m         \u001b[0;34m\"\"\"Connect to the host and port specified in __init__.\"\"\"\u001b[0m\u001b[0;34m\u001b[0m\u001b[0;34m\u001b[0m\u001b[0m\n\u001b[0;32m--> 945\u001b[0;31m         self.sock = self._create_connection(\n\u001b[0m\u001b[1;32m    946\u001b[0m             (self.host,self.port), self.timeout, self.source_address)\n\u001b[1;32m    947\u001b[0m         \u001b[0mself\u001b[0m\u001b[0;34m.\u001b[0m\u001b[0msock\u001b[0m\u001b[0;34m.\u001b[0m\u001b[0msetsockopt\u001b[0m\u001b[0;34m(\u001b[0m\u001b[0msocket\u001b[0m\u001b[0;34m.\u001b[0m\u001b[0mIPPROTO_TCP\u001b[0m\u001b[0;34m,\u001b[0m \u001b[0msocket\u001b[0m\u001b[0;34m.\u001b[0m\u001b[0mTCP_NODELAY\u001b[0m\u001b[0;34m,\u001b[0m \u001b[0;36m1\u001b[0m\u001b[0;34m)\u001b[0m\u001b[0;34m\u001b[0m\u001b[0;34m\u001b[0m\u001b[0m\n",
      "\u001b[0;32m~/anaconda3/lib/python3.9/socket.py\u001b[0m in \u001b[0;36mcreate_connection\u001b[0;34m(address, timeout, source_address)\u001b[0m\n\u001b[1;32m    830\u001b[0m             \u001b[0;32mif\u001b[0m \u001b[0msource_address\u001b[0m\u001b[0;34m:\u001b[0m\u001b[0;34m\u001b[0m\u001b[0;34m\u001b[0m\u001b[0m\n\u001b[1;32m    831\u001b[0m                 \u001b[0msock\u001b[0m\u001b[0;34m.\u001b[0m\u001b[0mbind\u001b[0m\u001b[0;34m(\u001b[0m\u001b[0msource_address\u001b[0m\u001b[0;34m)\u001b[0m\u001b[0;34m\u001b[0m\u001b[0;34m\u001b[0m\u001b[0m\n\u001b[0;32m--> 832\u001b[0;31m             \u001b[0msock\u001b[0m\u001b[0;34m.\u001b[0m\u001b[0mconnect\u001b[0m\u001b[0;34m(\u001b[0m\u001b[0msa\u001b[0m\u001b[0;34m)\u001b[0m\u001b[0;34m\u001b[0m\u001b[0;34m\u001b[0m\u001b[0m\n\u001b[0m\u001b[1;32m    833\u001b[0m             \u001b[0;31m# Break explicitly a reference cycle\u001b[0m\u001b[0;34m\u001b[0m\u001b[0;34m\u001b[0m\u001b[0m\n\u001b[1;32m    834\u001b[0m             \u001b[0merr\u001b[0m \u001b[0;34m=\u001b[0m \u001b[0;32mNone\u001b[0m\u001b[0;34m\u001b[0m\u001b[0;34m\u001b[0m\u001b[0m\n",
      "\u001b[0;31mKeyboardInterrupt\u001b[0m: "
     ]
    }
   ],
   "source": [
    "transcription=analyze_audio(\"./full_audio.wav\", \"./out/\", \"./quantized_and_optimized_ECAPA_medium_nfft512_6epoch.ptl\", 4, verbose=False)"
   ]
  },
  {
   "cell_type": "code",
   "execution_count": null,
   "id": "283032c5",
   "metadata": {},
   "outputs": [],
   "source": [
    "\n",
    "transcription = json.loads(aa)\n",
    "print(transcription)\n"
   ]
  },
  {
   "cell_type": "code",
   "execution_count": 20,
   "id": "e45c01f4",
   "metadata": {},
   "outputs": [
    {
     "data": {
      "text/plain": [
       "dict_keys(['segment_0', 'segment_1', 'segment_2', 'segment_3'])"
      ]
     },
     "execution_count": 20,
     "metadata": {},
     "output_type": "execute_result"
    }
   ],
   "source": [
    "transcription.keys()"
   ]
  },
  {
   "cell_type": "code",
   "execution_count": null,
   "id": "fe4a1bfc",
   "metadata": {},
   "outputs": [],
   "source": [
    "def plotting_waveform(path_save):\n",
    "    wav_obj = wave.open(path_save, 'rb')\n",
    "    sample_freq = wav_obj.getframerate()\n",
    "    n_samples = wav_obj.getnframes()\n",
    "    t_audio = n_samples/sample_freq\n",
    "    n_channels = wav_obj.getnchannels()\n",
    "    signal_wave = wav_obj.readframes(n_samples)\n",
    "    signal_array = np.frombuffer(signal_wave, dtype=np.int16)\n",
    "    l_channel = signal_array[0::2]\n",
    "\n",
    "    r_channel = signal_array[1::2]\n",
    "    times = np.linspace(0, n_samples/sample_freq, num=n_samples)\n",
    "    plt.figure(figsize=(15, 5))\n",
    "    plt.rcParams['axes.facecolor'] = 'black'\n",
    "    plt.rcParams['savefig.facecolor'] = 'black'\n",
    "\n",
    "    color_list = ['gray', 'red', 'yellow', 'purple', \"green\", \"olive\", \"aquamarine\",\n",
    "                  \"mediumseagreen\", \"xkcd:sky blue\", \"xkcd:eggshell\", \"cyan\", \"blue\"]\n",
    "    for i in range(0, len(times), 10000):\n",
    "        r = random.randint(0, 1)\n",
    "        g = random.randint(0, 1)\n",
    "        b = random.randint(0, 1)\n",
    "        rgb = [r, g, b]\n",
    "        plt.plot(times[i:i*10000], signal_array[i:i*10000],\n",
    "                 color=np.random.choice(color_list, 1)[0])\n",
    "\n",
    "    plt.axvline(x=0.5, color='w', linestyle='--', linewidth=2,)\n",
    "    plt.axvline(x=10, color='w', linestyle='--', linewidth=2,)\n",
    "    plt.axvline(x=15, color='w', linestyle='--', linewidth=2,)\n",
    "\n",
    "    plt.yticks([])\n",
    "    plt.xlabel('Time (s)', fontsize=20)\n",
    "    plt.xticks(fontsize=20)\n",
    "\n",
    "    plt.xlim(0, t_audio)\n",
    "    plt.tight_layout()\n",
    "    plt.savefig(\n",
    "        \"/media/msaleem2/data/Development/IS APPS/FLASK/static/img/waveform.png\")"
   ]
  },
  {
   "cell_type": "code",
   "execution_count": null,
   "id": "0997fa3b",
   "metadata": {},
   "outputs": [
    {
     "name": "stderr",
     "output_type": "stream",
     "text": [
      "/tmp/ipykernel_43681/2014008603.py:9: DeprecationWarning: The binary mode of fromstring is deprecated, as it behaves surprisingly on unicode inputs. Use frombuffer instead\n",
      "  signal = np.fromstring(signal, \"int16\")\n"
     ]
    },
    {
     "name": "stdout",
     "output_type": "stream",
     "text": [
      "(6081056,) (6081056,)\n"
     ]
    }
   ],
   "source": [
    "import wave\n",
    "import random\n",
    "import matplotlib.pyplot as plt\n",
    "\n",
    "def plotting_waveform(path_save):\n",
    "\n",
    "    spf = wave.open(path_save, \"r\")\n",
    "    signal = spf.readframes(-1)\n",
    "    signal = np.fromstring(signal, \"int16\")\n",
    "    fs = spf.getframerate()\n",
    "\n",
    "    times = np.linspace(0, len(signal) / fs, num=len(signal))\n",
    "    print(signal.shape,times.shape)\n",
    "    plt.figure(figsize=(15, 5))\n",
    "    plt.rcParams['axes.facecolor'] = 'black'\n",
    "    plt.rcParams['savefig.facecolor'] = 'black'\n",
    "\n",
    "    color_list = ['gray', 'red', 'yellow', 'purple', \"green\", \"olive\", \"aquamarine\",\n",
    "                  \"mediumseagreen\", \"xkcd:sky blue\", \"xkcd:eggshell\", \"cyan\", \"blue\"]\n",
    "    for i in range(0, len(times), 100000):\n",
    "        r = random.randint(0, 1)\n",
    "        g = random.randint(0, 1)\n",
    "        b = random.randint(0, 1)\n",
    "        rgb = [r, g, b]\n",
    "        \n",
    "        plt.plot(times[i:i*100000], signal[i:i*100000],\n",
    "                 color=np.random.choice(color_list, 1)[0])\n",
    "\n",
    "    plt.axvline(x=0.5, color='w', linestyle='--', linewidth=2,)\n",
    "    plt.axvline(x=10, color='w', linestyle='--', linewidth=2,)\n",
    "    plt.axvline(x=15, color='w', linestyle='--', linewidth=2,)\n",
    "\n",
    "    plt.yticks([])\n",
    "    plt.xlabel('Time (s)', fontsize=20)\n",
    "    plt.xticks(fontsize=20)\n",
    "\n",
    "    #plt.xlim(0, t_audio)\n",
    "    plt.tight_layout()\n",
    "    plt.savefig(\n",
    "        \"/media/msaleem2/data/Development/IS APPS/FLASK/static/img/waveform.png\")\n",
    "plotting_waveform(\"full_audio1.wav\")"
   ]
  },
  {
   "cell_type": "code",
   "execution_count": 6,
   "id": "41eac193",
   "metadata": {},
   "outputs": [
    {
     "name": "stderr",
     "output_type": "stream",
     "text": [
      "/tmp/ipykernel_43681/2780885162.py:7: DeprecationWarning: The binary mode of fromstring is deprecated, as it behaves surprisingly on unicode inputs. Use frombuffer instead\n",
      "  signal = np.fromstring(signal, \"int16\")\n"
     ]
    },
    {
     "ename": "NameError",
     "evalue": "name 'time' is not defined",
     "output_type": "error",
     "traceback": [
      "\u001b[0;31m---------------------------------------------------------------------------\u001b[0m",
      "\u001b[0;31mNameError\u001b[0m                                 Traceback (most recent call last)",
      "\u001b[0;32m/tmp/ipykernel_43681/669227007.py\u001b[0m in \u001b[0;36m<module>\u001b[0;34m\u001b[0m\n\u001b[0;32m----> 1\u001b[0;31m \u001b[0mplotting_waveform\u001b[0m\u001b[0;34m(\u001b[0m\u001b[0;34m\"full_audio1.wav\"\u001b[0m\u001b[0;34m)\u001b[0m\u001b[0;34m\u001b[0m\u001b[0;34m\u001b[0m\u001b[0m\n\u001b[0m",
      "\u001b[0;32m/tmp/ipykernel_43681/2780885162.py\u001b[0m in \u001b[0;36mplotting_waveform\u001b[0;34m(path_save)\u001b[0m\n\u001b[1;32m      9\u001b[0m \u001b[0;34m\u001b[0m\u001b[0m\n\u001b[1;32m     10\u001b[0m     \u001b[0mtimes\u001b[0m \u001b[0;34m=\u001b[0m \u001b[0mnp\u001b[0m\u001b[0;34m.\u001b[0m\u001b[0mlinspace\u001b[0m\u001b[0;34m(\u001b[0m\u001b[0;36m0\u001b[0m\u001b[0;34m,\u001b[0m \u001b[0mlen\u001b[0m\u001b[0;34m(\u001b[0m\u001b[0msignal\u001b[0m\u001b[0;34m)\u001b[0m \u001b[0;34m/\u001b[0m \u001b[0mfs\u001b[0m\u001b[0;34m,\u001b[0m \u001b[0mnum\u001b[0m\u001b[0;34m=\u001b[0m\u001b[0mlen\u001b[0m\u001b[0;34m(\u001b[0m\u001b[0msignal\u001b[0m\u001b[0;34m)\u001b[0m\u001b[0;34m)\u001b[0m\u001b[0;34m\u001b[0m\u001b[0;34m\u001b[0m\u001b[0m\n\u001b[0;32m---> 11\u001b[0;31m     \u001b[0mprint\u001b[0m\u001b[0;34m(\u001b[0m\u001b[0msignal\u001b[0m\u001b[0;34m.\u001b[0m\u001b[0mshape\u001b[0m\u001b[0;34m,\u001b[0m\u001b[0mtime\u001b[0m\u001b[0;34m.\u001b[0m\u001b[0mshape\u001b[0m\u001b[0;34m)\u001b[0m\u001b[0;34m\u001b[0m\u001b[0;34m\u001b[0m\u001b[0m\n\u001b[0m\u001b[1;32m     12\u001b[0m     \u001b[0mplt\u001b[0m\u001b[0;34m.\u001b[0m\u001b[0mfigure\u001b[0m\u001b[0;34m(\u001b[0m\u001b[0mfigsize\u001b[0m\u001b[0;34m=\u001b[0m\u001b[0;34m(\u001b[0m\u001b[0;36m15\u001b[0m\u001b[0;34m,\u001b[0m \u001b[0;36m5\u001b[0m\u001b[0;34m)\u001b[0m\u001b[0;34m)\u001b[0m\u001b[0;34m\u001b[0m\u001b[0;34m\u001b[0m\u001b[0m\n\u001b[1;32m     13\u001b[0m     \u001b[0mplt\u001b[0m\u001b[0;34m.\u001b[0m\u001b[0mrcParams\u001b[0m\u001b[0;34m[\u001b[0m\u001b[0;34m'axes.facecolor'\u001b[0m\u001b[0;34m]\u001b[0m \u001b[0;34m=\u001b[0m \u001b[0;34m'black'\u001b[0m\u001b[0;34m\u001b[0m\u001b[0;34m\u001b[0m\u001b[0m\n",
      "\u001b[0;31mNameError\u001b[0m: name 'time' is not defined"
     ]
    }
   ],
   "source": []
  },
  {
   "cell_type": "code",
   "execution_count": 86,
   "id": "7c4655c8",
   "metadata": {},
   "outputs": [
    {
     "name": "stderr",
     "output_type": "stream",
     "text": [
      "/tmp/ipykernel_35766/1369237863.py:5: DeprecationWarning: The binary mode of fromstring is deprecated, as it behaves surprisingly on unicode inputs. Use frombuffer instead\n",
      "  signal = np.fromstring(signal, \"int16\")\n"
     ]
    }
   ],
   "source": [
    "spf = wave.open(\"full_audio1.wav\", \"r\")\n",
    "\n",
    "# Extract Raw Audio from Wav File\n",
    "signal = spf.readframes(-1)\n",
    "signal = np.fromstring(signal, \"int16\")\n",
    "fs = spf.getframerate()\n",
    "\n",
    "time = np.linspace(0, len(signal) / fs, num=len(signal))\n"
   ]
  },
  {
   "cell_type": "code",
   "execution_count": 78,
   "id": "d46ae7cb",
   "metadata": {},
   "outputs": [
    {
     "data": {
      "text/plain": [
       "((6081056,), (6081056,))"
      ]
     },
     "execution_count": 78,
     "metadata": {},
     "output_type": "execute_result"
    }
   ],
   "source": [
    "print(signal.shape,time.shape)"
   ]
  },
  {
   "cell_type": "code",
   "execution_count": 87,
   "id": "9a4ded80",
   "metadata": {},
   "outputs": [
    {
     "data": {
      "text/plain": [
       "array([ 0,  0,  0, ..., -4, -4, -4], dtype=int16)"
      ]
     },
     "execution_count": 87,
     "metadata": {},
     "output_type": "execute_result"
    }
   ],
   "source": [
    "signal"
   ]
  },
  {
   "cell_type": "code",
   "execution_count": 73,
   "id": "0871ec61",
   "metadata": {},
   "outputs": [
    {
     "data": {
      "text/plain": [
       "(6081056,)"
      ]
     },
     "execution_count": 73,
     "metadata": {},
     "output_type": "execute_result"
    }
   ],
   "source": [
    "Time.shape"
   ]
  },
  {
   "cell_type": "code",
   "execution_count": 64,
   "id": "33e06eb2",
   "metadata": {},
   "outputs": [
    {
     "data": {
      "text/plain": [
       "((6081056,), (3040528,))"
      ]
     },
     "execution_count": 64,
     "metadata": {},
     "output_type": "execute_result"
    }
   ],
   "source": [
    "spf = wave.open(\"full_audio1.wav\", \"r\")\n",
    "\n",
    "wav_obj = wave.open(\"full_audio1.wav\", 'rb')\n",
    "sample_freq = wav_obj.getframerate()\n",
    "n_samples = wav_obj.getnframes()\n",
    "t_audio = n_samples/sample_freq\n",
    "n_channels = wav_obj.getnchannels()\n",
    "signal_wave = wav_obj.readframes(n_samples)\n",
    "signal_array = np.frombuffer(signal_wave, dtype=np.int16)\n",
    "times = np.linspace(0, n_samples/sample_freq, num=n_samples)\n",
    "signal_array.shape,times.shape"
   ]
  },
  {
   "cell_type": "code",
   "execution_count": 69,
   "id": "04b77322",
   "metadata": {},
   "outputs": [
    {
     "data": {
      "text/plain": [
       "(6081056,)"
      ]
     },
     "execution_count": 69,
     "metadata": {},
     "output_type": "execute_result"
    }
   ],
   "source": [
    "signal_array.shape"
   ]
  },
  {
   "cell_type": "code",
   "execution_count": 58,
   "id": "15d61950",
   "metadata": {},
   "outputs": [],
   "source": [
    "spf = wave.open(\"full_audio1.wav\", \"r\")\n",
    "\n",
    "signal_wave = wave.open('full_audio1.wav', 'r')\n",
    "sample_rate = 16000\n",
    "sig = np.frombuffer(signal_wave.readframes(sample_rate), dtype=np.int16)"
   ]
  },
  {
   "cell_type": "code",
   "execution_count": 63,
   "id": "b79fa2f9",
   "metadata": {},
   "outputs": [
    {
     "data": {
      "text/plain": [
       "(6081056,)"
      ]
     },
     "execution_count": 63,
     "metadata": {},
     "output_type": "execute_result"
    }
   ],
   "source": [
    "wav_obj = wave.open(\"full_audio1.wav\", 'rb')\n",
    "sample_freq = wav_obj.getframerate()\n",
    "n_samples = wav_obj.getnframes()\n",
    "\n",
    "np.frombuffer(wav_obj.readframes(n_samples), dtype=np.int16).shape"
   ]
  },
  {
   "cell_type": "code",
   "execution_count": 43,
   "id": "e59b003a",
   "metadata": {},
   "outputs": [],
   "source": [
    "import wave"
   ]
  },
  {
   "cell_type": "code",
   "execution_count": 18,
   "id": "cf06fd1f",
   "metadata": {},
   "outputs": [],
   "source": [
    "signal_wave = wave.open('full_audio1.wav', 'r')\n"
   ]
  },
  {
   "cell_type": "code",
   "execution_count": 14,
   "id": "1587ba63",
   "metadata": {},
   "outputs": [
    {
     "data": {
      "image/png": "[encoded data removed]",
      "text/plain": [
       "<Figure size 432x288 with 1 Axes>"
      ]
     },
     "metadata": {
      "needs_background": "light"
     },
     "output_type": "display_data"
    }
   ],
   "source": [
    "from scipy.io.wavfile import read\n",
    "import matplotlib.pyplot as plt\n",
    "\n",
    "# read audio samples\n",
    "input_data = read(\"full_audio.wav\")\n",
    "audio = input_data[1]\n",
    "# plot the first 1024 samples\n",
    "plt.plot(audio[0:1024])\n",
    "# label the axes\n",
    "plt.ylabel(\"Amplitude\")\n",
    "plt.xlabel(\"Time\")\n",
    "# set the title  \n",
    "plt.title(\"Sample Wav\")\n",
    "# display the plot\n",
    "plt.show()"
   ]
  },
  {
   "cell_type": "code",
   "execution_count": 22,
   "id": "5ce0a003",
   "metadata": {},
   "outputs": [
    {
     "data": {
      "text/plain": [
       "'/media/msaleem2/data/Development/IS APPS/FLASK/code'"
      ]
     },
     "execution_count": 22,
     "metadata": {},
     "output_type": "execute_result"
    }
   ],
   "source": [
    "pwd\n"
   ]
  },
  {
   "cell_type": "code",
   "execution_count": 21,
   "id": "a5658ead",
   "metadata": {},
   "outputs": [
    {
     "name": "stdout",
     "output_type": "stream",
     "text": [
      "\u001b[0m\u001b[00;36maudio.wav\u001b[0m  \u001b[00;36mfull_audio.wav\u001b[0m  \u001b[01;34mmerge\u001b[0m/  \u001b[01;34mout\u001b[0m/  \u001b[00;36moutput.wav\u001b[0m  \u001b[00;36mspeech.wav\u001b[0m\r\n"
     ]
    }
   ],
   "source": [
    "ls \"/home/msaleem2/Documents/Development/IS APPS/FLASK/static/audios/\""
   ]
  },
  {
   "cell_type": "code",
   "execution_count": 19,
   "id": "99d26c26",
   "metadata": {},
   "outputs": [
    {
     "ename": "NameError",
     "evalue": "name 'random' is not defined",
     "output_type": "error",
     "traceback": [
      "\u001b[0;31m---------------------------------------------------------------------------\u001b[0m",
      "\u001b[0;31mNameError\u001b[0m                                 Traceback (most recent call last)",
      "\u001b[0;32m/tmp/ipykernel_35766/669227007.py\u001b[0m in \u001b[0;36m<module>\u001b[0;34m\u001b[0m\n\u001b[0;32m----> 1\u001b[0;31m \u001b[0mplotting_waveform\u001b[0m\u001b[0;34m(\u001b[0m\u001b[0;34m\"full_audio1.wav\"\u001b[0m\u001b[0;34m)\u001b[0m\u001b[0;34m\u001b[0m\u001b[0;34m\u001b[0m\u001b[0m\n\u001b[0m",
      "\u001b[0;32m/tmp/ipykernel_35766/840834354.py\u001b[0m in \u001b[0;36mplotting_waveform\u001b[0;34m(path_save)\u001b[0m\n\u001b[1;32m     18\u001b[0m                   \"mediumseagreen\", \"xkcd:sky blue\", \"xkcd:eggshell\", \"cyan\", \"blue\"]\n\u001b[1;32m     19\u001b[0m     \u001b[0;32mfor\u001b[0m \u001b[0mi\u001b[0m \u001b[0;32min\u001b[0m \u001b[0mrange\u001b[0m\u001b[0;34m(\u001b[0m\u001b[0;36m0\u001b[0m\u001b[0;34m,\u001b[0m \u001b[0mlen\u001b[0m\u001b[0;34m(\u001b[0m\u001b[0mtimes\u001b[0m\u001b[0;34m)\u001b[0m\u001b[0;34m,\u001b[0m \u001b[0;36m10000\u001b[0m\u001b[0;34m)\u001b[0m\u001b[0;34m:\u001b[0m\u001b[0;34m\u001b[0m\u001b[0;34m\u001b[0m\u001b[0m\n\u001b[0;32m---> 20\u001b[0;31m         \u001b[0mr\u001b[0m \u001b[0;34m=\u001b[0m \u001b[0mrandom\u001b[0m\u001b[0;34m.\u001b[0m\u001b[0mrandint\u001b[0m\u001b[0;34m(\u001b[0m\u001b[0;36m0\u001b[0m\u001b[0;34m,\u001b[0m \u001b[0;36m1\u001b[0m\u001b[0;34m)\u001b[0m\u001b[0;34m\u001b[0m\u001b[0;34m\u001b[0m\u001b[0m\n\u001b[0m\u001b[1;32m     21\u001b[0m         \u001b[0mg\u001b[0m \u001b[0;34m=\u001b[0m \u001b[0mrandom\u001b[0m\u001b[0;34m.\u001b[0m\u001b[0mrandint\u001b[0m\u001b[0;34m(\u001b[0m\u001b[0;36m0\u001b[0m\u001b[0;34m,\u001b[0m \u001b[0;36m1\u001b[0m\u001b[0;34m)\u001b[0m\u001b[0;34m\u001b[0m\u001b[0;34m\u001b[0m\u001b[0m\n\u001b[1;32m     22\u001b[0m         \u001b[0mb\u001b[0m \u001b[0;34m=\u001b[0m \u001b[0mrandom\u001b[0m\u001b[0;34m.\u001b[0m\u001b[0mrandint\u001b[0m\u001b[0;34m(\u001b[0m\u001b[0;36m0\u001b[0m\u001b[0;34m,\u001b[0m \u001b[0;36m1\u001b[0m\u001b[0;34m)\u001b[0m\u001b[0;34m\u001b[0m\u001b[0;34m\u001b[0m\u001b[0m\n",
      "\u001b[0;31mNameError\u001b[0m: name 'random' is not defined"
     ]
    },
    {
     "data": {
      "text/plain": [
       "<Figure size 1080x360 with 0 Axes>"
      ]
     },
     "metadata": {},
     "output_type": "display_data"
    }
   ],
   "source": [
    "plotting_waveform(\"full_audio1.wav\")"
   ]
  },
  {
   "cell_type": "code",
   "execution_count": 8,
   "id": "52dffd1b",
   "metadata": {},
   "outputs": [
    {
     "name": "stdout",
     "output_type": "stream",
     "text": [
      "audio.ipynb\r\n",
      "\u001b[0m\u001b[00;36maudio.wav\u001b[0m\r\n",
      "\u001b[00;36mc.wav\u001b[0m\r\n",
      "diarization_and_recognition.py\r\n",
      "\u001b[00;36mfull_audio.wav\u001b[0m\r\n",
      "\u001b[01;34mmerge\u001b[0m/\r\n",
      "\u001b[01;34mout\u001b[0m/\r\n",
      "\u001b[00;36moutput.wav\u001b[0m\r\n",
      "quantized_and_optimized_ECAPA_medium_nfft512_6epoch.ptl\r\n",
      "\u001b[00;36mspeech.wav\u001b[0m\r\n"
     ]
    }
   ],
   "source": [
    "ls"
   ]
  },
  {
   "cell_type": "code",
   "execution_count": 24,
   "id": "805bb398",
   "metadata": {},
   "outputs": [
    {
     "name": "stdout",
     "output_type": "stream",
     "text": [
      "you wish to know all about my grandfather well he's nearly ninety three years old yet he still thinks I swiftly as of her she dresses himself in an old black frock-coat usually several buttons missing a long beard Queens tuition giving those who observe him up pronounce feeling of the utmost respect when he speaks his voice is just a bit cracked and clickers a bit each day he plays skillfully and resent on a small organ except in the winter when this newer Ice event he's so we take a short walk in the open-air each day to walk more but he always answers\n",
      "\n",
      "you wish to know all about my grandfather ever he dresses himself in an old black frock-coat usually several buttons missing a long beard clings to his chin giving those who observe\n",
      "\n",
      "you wish to know all about my grandfather, well he's nearly 92 years old and he still thinks as swiftly as ever he dresses himself in an old black frock-coat usually several buttons missing a long beard clings to his chicken getting those who deserve him up or not feeling well\n",
      "\n",
      "you wish to know all about my grandfather well he's nearly 93 years old is he still thinking acid sweet Fiesta\n",
      "\n"
     ]
    }
   ],
   "source": [
    "for key in transcription.keys():\n",
    "    print(transcription[key]['text'])\n",
    "    print()"
   ]
  },
  {
   "cell_type": "code",
   "execution_count": null,
   "id": "ada6c647",
   "metadata": {},
   "outputs": [],
   "source": []
  },
  {
   "cell_type": "code",
   "execution_count": 30,
   "id": "bd727e4b",
   "metadata": {},
   "outputs": [],
   "source": [
    "from pydub import AudioSegment\n",
    "sound1 = AudioSegment.from_file(\"./merge/1.wav\", format=\"wav\")\n",
    "sound2 = AudioSegment.from_file(\"./merge/2.wav\", format=\"wav\")\n",
    "sound3 = AudioSegment.from_file(\"./merge/3.wav\", format=\"wav\")\n",
    "sound4 = AudioSegment.from_file(\"./merge/4.wav\", format=\"wav\")\n",
    "sound5 = AudioSegment.from_file(\"./merge/5.wav\", format=\"wav\")\n",
    "\n",
    "# sound1 6 dB louder\n",
    "\n",
    "\n",
    "# sound1, with sound2 appended (use louder instead of sound1 to append the louder version)\n",
    "combined = sound1 + sound2 + sound3 + sound4 +sound5\n",
    "\n",
    "# simple export\n",
    "file_handle = combined.export(\"output.wav\", format=\"wav\")"
   ]
  },
  {
   "cell_type": "code",
   "execution_count": null,
   "id": "c711827f",
   "metadata": {},
   "outputs": [],
   "source": []
  },
  {
   "cell_type": "code",
   "execution_count": 20,
   "id": "4e6fdc67",
   "metadata": {},
   "outputs": [],
   "source": [
    "import glob"
   ]
  },
  {
   "cell_type": "code",
   "execution_count": 24,
   "id": "4ec04c2e",
   "metadata": {},
   "outputs": [
    {
     "data": {
      "text/plain": [
       "['out/seg0_speaker0_speakerseg1.wav',\n",
       " 'out/seg3_speaker1_speakerseg4.wav',\n",
       " 'out/seg1_speaker1_speakerseg12.wav',\n",
       " 'out/seg6_speaker3_speakerseg4.wav',\n",
       " 'out/seg9_speaker4_speakerseg2.wav',\n",
       " 'out/seg2_speaker1_speakerseg2.wav',\n",
       " 'out/seg1_speaker1_speakerseg0.wav',\n",
       " 'out/seg7_speaker4_speakerseg0.wav',\n",
       " 'out/seg8_speaker3_speakerseg9.wav',\n",
       " 'out/seg5_speaker3_speakerseg0.wav',\n",
       " 'out/seg8_speaker4_speakerseg3.wav',\n",
       " 'out/seg4_speaker2_speakerseg6.wav',\n",
       " 'out/seg2_speaker2_speakerseg0.wav',\n",
       " 'out/seg4_speaker2_speakerseg5.wav',\n",
       " 'out/seg7_speaker3_speakerseg6.wav',\n",
       " 'out/seg9_speaker4_speakerseg6.wav',\n",
       " 'out/seg3_speaker2_speakerseg3.wav',\n",
       " 'out/seg0_speaker0_speakerseg7.wav',\n",
       " 'out/seg10_speaker4_speakerseg8.wav',\n",
       " 'out/seg10_speaker4_speakerseg4.wav']"
      ]
     },
     "execution_count": 24,
     "metadata": {},
     "output_type": "execute_result"
    }
   ],
   "source": [
    "glob.glob(\"out/*\")"
   ]
  },
  {
   "cell_type": "code",
   "execution_count": null,
   "id": "9cdd6ff0",
   "metadata": {},
   "outputs": [],
   "source": []
  }
 ],
 "metadata": {
  "kernelspec": {
   "display_name": "Python 3 (ipykernel)",
   "language": "python",
   "name": "python3"
  },
  "language_info": {
   "codemirror_mode": {
    "name": "ipython",
    "version": 3
   },
   "file_extension": ".py",
   "mimetype": "text/x-python",
   "name": "python",
   "nbconvert_exporter": "python",
   "pygments_lexer": "ipython3",
   "version": "3.9.7"
  }
 },
 "nbformat": 4,
 "nbformat_minor": 5
}
